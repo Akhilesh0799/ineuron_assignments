{
  "nbformat": 4,
  "nbformat_minor": 0,
  "metadata": {
    "colab": {
      "name": "Python Basics,Conditional Loops.ipynb",
      "provenance": [],
      "collapsed_sections": []
    },
    "kernelspec": {
      "name": "python3",
      "display_name": "Python 3"
    },
    "language_info": {
      "name": "python"
    }
  },
  "cells": [
    {
      "cell_type": "code",
      "execution_count": 19,
      "metadata": {
        "id": "EGbj2T8sfnyx",
        "colab": {
          "base_uri": "https://localhost:8080/"
        },
        "outputId": "e76e8947-1922-4309-9a74-0f3f55bef7eb"
      },
      "outputs": [
        {
          "output_type": "stream",
          "name": "stdout",
          "text": [
            "2002,2009,2016,2023,2037,2044,2051,2058,2072,2079,2086,2093,2107,2114,2121,2128,2142,2149,2156,2163,2177,2184,2191,2198,2212,2219,2226,2233,2247,2254,2261,2268,2282,2289,2296,2303,2317,2324,2331,2338,2352,2359,2366,2373,2387,2394,2401,2408,2422,2429,2436,2443,2457,2464,2471,2478,2492,2499,2506,2513,2527,2534,2541,2548,2562,2569,2576,2583,2597,2604,2611,2618,2632,2639,2646,2653,2667,2674,2681,2688,2702,2709,2716,2723,2737,2744,2751,2758,2772,2779,2786,2793,2807,2814,2821,2828,2842,2849,2856,2863,2877,2884,2891,2898,2912,2919,2926,2933,2947,2954,2961,2968,2982,2989,2996,3003,3017,3024,3031,3038,3052,3059,3066,3073,3087,3094,3101,3108,3122,3129,3136,3143,3157,3164,3171,3178,3192,3199,\n",
            "The total number is 138\n"
          ]
        }
      ],
      "source": [
        "#FIRST QUESTION\n",
        "count=0\n",
        "for i in range(2000,3200):\n",
        "  if i%7==0:\n",
        "    if i%5!=0:\n",
        "      count=count+1\n",
        "      print(i,end=\",\")\n",
        "    \n",
        "print(\"\\nThe total number is \"+str(count))"
      ]
    },
    {
      "cell_type": "code",
      "source": [
        "#Second Question\n",
        "print(\"Type your First name please\")\n",
        "First_name=str(input())\n",
        "l=First_name[::-1]\n",
        "print(\"Type your Last name please\")\n",
        "Last_name=str(input())\n",
        "m=Last_name[::-1]\n",
        "print(l+\" \"+m)\n"
      ],
      "metadata": {
        "colab": {
          "base_uri": "https://localhost:8080/"
        },
        "id": "5glAKNYGrzeU",
        "outputId": "5b86de51-f47f-4333-f24b-43458ea00f1c"
      },
      "execution_count": 8,
      "outputs": [
        {
          "output_type": "stream",
          "name": "stdout",
          "text": [
            "Type your First name please\n",
            "Kuruba \n",
            "Type your Last name please\n",
            "Sai Akhilesh\n",
            " aburuK hselihkA iaS\n"
          ]
        }
      ]
    },
    {
      "cell_type": "code",
      "source": [
        "#Third Question\n",
        "import math\n",
        "r=12\n",
        "V=4/3*math.pi*(r**3)\n",
        "print(V)"
      ],
      "metadata": {
        "id": "Ba4b_-fFsp-z",
        "colab": {
          "base_uri": "https://localhost:8080/"
        },
        "outputId": "2ceabd43-673f-48d9-c9d4-8fdf40fb87dd"
      },
      "execution_count": 14,
      "outputs": [
        {
          "output_type": "stream",
          "name": "stdout",
          "text": [
            "7238.229473870882\n"
          ]
        }
      ]
    },
    {
      "cell_type": "code",
      "source": [
        ""
      ],
      "metadata": {
        "id": "MIJl_WWYOCTh"
      },
      "execution_count": 7,
      "outputs": []
    }
  ]
}